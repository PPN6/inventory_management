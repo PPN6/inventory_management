{
 "cells": [
  {
   "cell_type": "code",
   "execution_count": 1,
   "metadata": {},
   "outputs": [],
   "source": [
    "import pandas as pd"
   ]
  },
  {
   "cell_type": "markdown",
   "metadata": {},
   "source": [
    "# Consumable\n"
   ]
  },
  {
   "cell_type": "code",
   "execution_count": 4,
   "metadata": {},
   "outputs": [
    {
     "name": "stdout",
     "output_type": "stream",
     "text": [
      "Results have been saved to results.csv\n"
     ]
    },
    {
     "name": "stderr",
     "output_type": "stream",
     "text": [
      "C:\\Users\\Paul\\AppData\\Local\\Packages\\PythonSoftwareFoundation.Python.3.9_qbz5n2kfra8p0\\LocalCache\\local-packages\\Python39\\site-packages\\openpyxl\\worksheet\\_reader.py:329: UserWarning: Data Validation extension is not supported and will be removed\n",
      "  warn(msg)\n"
     ]
    }
   ],
   "source": [
    "import pandas as pd\n",
    "\n",
    "# Load the Excel file\n",
    "file_path = 'consumable.xlsx'  # Replace with the actual path to your file\n",
    "df = pd.read_excel(file_path, sheet_name=0)\n",
    "\n",
    "# Count the occurrences of each unique name in the \"Stock name\" column\n",
    "result = df['Stock name'].value_counts().reset_index()\n",
    "result.columns = ['Stock_name', 'Count']\n",
    "\n",
    "# Merge the additional columns into the result\n",
    "extra_columns = df[['Stock name', 'Price', 'Manufacturer', 'Catalog no.']].drop_duplicates()\n",
    "result = result.merge(extra_columns, left_on='Stock_name', right_on='Stock name', how='left').drop(columns=['Stock name'])\n",
    "\n",
    "# Calculate the \"Total Price\"\n",
    "result['Total Price'] = result['Count'] * result['Price']\n",
    "\n",
    "# Reorder columns\n",
    "result = result[['Stock_name', 'Count', 'Manufacturer', 'Catalog no.', 'Price', 'Total Price']]\n",
    "\n",
    "# Save the results to a new CSV file with the correct encoding\n",
    "output_path = 'results_consumable.csv'\n",
    "result.to_csv(output_path, index=False, sep=';', encoding='utf-8-sig')\n",
    "\n",
    "print(f\"Results have been saved to {output_path}\")\n"
   ]
  },
  {
   "cell_type": "markdown",
   "metadata": {},
   "source": [
    "# Price, liquid solid"
   ]
  },
  {
   "cell_type": "code",
   "execution_count": 25,
   "metadata": {},
   "outputs": [
    {
     "name": "stdout",
     "output_type": "stream",
     "text": [
      "Styled results have been saved to results_culture.xlsx\n"
     ]
    }
   ],
   "source": [
    "import pandas as pd\n",
    "import re\n",
    "from collections import defaultdict\n",
    "\n",
    "# Load the Excel file\n",
    "file_path = 'culture.xlsx'  # Replace with the actual path to your file\n",
    "df = pd.read_excel(file_path, sheet_name=0)\n",
    "\n",
    "# Exclude rows where the year in `Stored / frozen on` is 2025\n",
    "df['Stored / frozen on'] = pd.to_datetime(df['Stored / frozen on'], errors='coerce')  # Convert to datetime\n",
    "df = df[df['Stored / frozen on'].dt.year != 2025]  # Filter out rows where year is 2025\n",
    "\n",
    "# Extract amount and unit from `Units remarks`\n",
    "def parse_unit_remarks(remarks):\n",
    "    match = re.match(r'(\\d+\\.?\\d*)\\s*([a-zA-Zµ]+)', str(remarks))\n",
    "    if match:\n",
    "        amount = float(match.group(1))\n",
    "        unit = match.group(2)\n",
    "        return amount, unit\n",
    "    return None, None\n",
    "\n",
    "df[['Units_remarks_amount', 'Units_remarks_unit']] = df['Units remarks'].apply(\n",
    "    lambda x: pd.Series(parse_unit_remarks(x))\n",
    ")\n",
    "\n",
    "# Determine final amount and unit for each row\n",
    "def get_final_amount_unit(row):\n",
    "    if row['Stock volume'] == 0 and pd.notnull(row['Stock weight']):\n",
    "        return row['Stock weight'], row['Weight units']\n",
    "    elif row['Stock weight'] == 0 and pd.notnull(row['Stock volume']):\n",
    "        return row['Stock volume'], row['Volume units']\n",
    "    elif pd.notnull(row['Stock volume']) and pd.notnull(row['Volume units']):\n",
    "        return row['Stock volume'], row['Volume units']\n",
    "    elif pd.notnull(row['Stock weight']) and pd.notnull(row['Weight units']):\n",
    "        return row['Stock weight'], row['Weight units']\n",
    "    return None, None\n",
    "\n",
    "df[['Amount_final', 'Unit_final']] = df.apply(\n",
    "    lambda row: pd.Series(get_final_amount_unit(row)), axis=1\n",
    ")\n",
    "\n",
    "# Group by `Stock name` and calculate totals for each unit\n",
    "grouped = df.groupby('Stock name')\n",
    "results = []\n",
    "\n",
    "for stock_name, group in grouped:\n",
    "    unit_totals = defaultdict(float)\n",
    "    total_price = 0  # Initialize total price\n",
    "    \n",
    "    for _, row in group.iterrows():\n",
    "        amount = row['Amount_final']\n",
    "        unit = row['Unit_final']\n",
    "        price_per_unit = row['Price']\n",
    "        unit_remarks_amount = row['Units_remarks_amount']\n",
    "        unit_remarks_unit = row['Units_remarks_unit']\n",
    "        \n",
    "        if pd.notnull(amount) and pd.notnull(unit):\n",
    "            unit_totals[unit] += amount\n",
    "            \n",
    "            # Calculate price based on `Units remarks`\n",
    "            if pd.notnull(unit_remarks_amount) and unit == unit_remarks_unit:\n",
    "                total_price += (amount / unit_remarks_amount) * price_per_unit\n",
    "    \n",
    "    # Combine totals into a single string\n",
    "    total_amounts = ', '.join(f\"{value} {unit}\" for unit, value in unit_totals.items())\n",
    "    \n",
    "    # Collect other data\n",
    "    results.append({\n",
    "        'Stock name': stock_name,\n",
    "        'Count': len(group),\n",
    "        'Manufacturer': group['Manufacturer'].iloc[0],\n",
    "        'Catalog no.': group['Catalog no.'].iloc[0],\n",
    "        'Price': group['Price'].iloc[0],\n",
    "        'Units remarks': group['Units remarks'].iloc[0],  # Include `Units remarks`\n",
    "        'Total Amount & Unit': total_amounts,\n",
    "        'Total Price': total_price\n",
    "    })\n",
    "\n",
    "# Convert results into a DataFrame\n",
    "result_df = pd.DataFrame(results)\n",
    "\n",
    "# Reorder columns\n",
    "result_df = result_df[['Stock name', 'Count', 'Manufacturer', 'Catalog no.', 'Price', 'Units remarks', 'Total Amount & Unit', 'Total Price']]\n",
    "\n",
    "# Apply conditional formatting\n",
    "def highlight_zero_price(row):\n",
    "    if row['Total Price'] == 0 or pd.isnull(row['Total Price']):\n",
    "        return ['background-color: #ffcccc'] * len(row)\n",
    "    return [''] * len(row)\n",
    "\n",
    "styled_result = result_df.style.apply(highlight_zero_price, axis=1)\n",
    "\n",
    "# Save the styled DataFrame as an Excel file\n",
    "output_path = 'results_culture.xlsx'\n",
    "styled_result.to_excel(output_path, index=False, engine='openpyxl')\n",
    "\n",
    "print(f\"Styled results have been saved to {output_path}\")\n"
   ]
  },
  {
   "cell_type": "code",
   "execution_count": null,
   "metadata": {},
   "outputs": [],
   "source": []
  },
  {
   "cell_type": "code",
   "execution_count": null,
   "metadata": {},
   "outputs": [],
   "source": []
  },
  {
   "cell_type": "code",
   "execution_count": null,
   "metadata": {},
   "outputs": [],
   "source": []
  },
  {
   "cell_type": "code",
   "execution_count": null,
   "metadata": {},
   "outputs": [],
   "source": []
  },
  {
   "cell_type": "code",
   "execution_count": null,
   "metadata": {},
   "outputs": [],
   "source": []
  },
  {
   "cell_type": "code",
   "execution_count": null,
   "metadata": {},
   "outputs": [],
   "source": []
  },
  {
   "cell_type": "code",
   "execution_count": null,
   "metadata": {},
   "outputs": [],
   "source": []
  },
  {
   "cell_type": "code",
   "execution_count": null,
   "metadata": {},
   "outputs": [],
   "source": []
  },
  {
   "cell_type": "code",
   "execution_count": null,
   "metadata": {},
   "outputs": [],
   "source": []
  },
  {
   "cell_type": "code",
   "execution_count": null,
   "metadata": {},
   "outputs": [],
   "source": []
  }
 ],
 "metadata": {
  "kernelspec": {
   "display_name": "Python 3",
   "language": "python",
   "name": "python3"
  },
  "language_info": {
   "codemirror_mode": {
    "name": "ipython",
    "version": 3
   },
   "file_extension": ".py",
   "mimetype": "text/x-python",
   "name": "python",
   "nbconvert_exporter": "python",
   "pygments_lexer": "ipython3",
   "version": "3.9.13"
  }
 },
 "nbformat": 4,
 "nbformat_minor": 2
}
